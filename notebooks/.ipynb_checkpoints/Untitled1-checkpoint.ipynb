{
 "cells": [
  {
   "cell_type": "code",
   "execution_count": null,
   "id": "674874cc-405b-49e2-8ff3-5a0c3f95fbe4",
   "metadata": {},
   "outputs": [],
   "source": []
  }
 ],
 "metadata": {
  "kernelspec": {
   "display_name": "",
   "name": ""
  },
  "language_info": {
   "name": ""
  }
 },
 "nbformat": 4,
 "nbformat_minor": 5
}
